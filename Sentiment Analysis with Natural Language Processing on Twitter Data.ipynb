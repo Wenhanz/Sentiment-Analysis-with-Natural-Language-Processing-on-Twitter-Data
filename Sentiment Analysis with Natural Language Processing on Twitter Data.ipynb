{
 "cells": [
  {
   "cell_type": "markdown",
   "metadata": {},
   "source": [
    "# Sentiment Analysis\n",
    "\n",
    "The dataset folder contains:\n",
    "\n",
    "- train.csv\n",
    "- test.csv"
   ]
  },
  {
   "cell_type": "markdown",
   "metadata": {},
   "source": [
    "### (a) Read the training data\n",
    "\n",
    "Read the data present in train.csv file. **Please do no change the file name. In particular, use a relative path, i.e., './HW3-data/train.csv'** <br>\n",
    "Perform the following cleaning on the data:\n",
    "1. Keep only the sentiment and sentiment text in the data - the first and the last coumn\n",
    "2. Shuffle the rows of the data frame such that the positive and negative tweets are mixed\n",
    "3. Print the first 5 sentiments.\n",
    "4. Print the number of positive and negative sentiment labels\n",
    "Note: If you are using `open()`, you may have to set `encoding='iso8859'`."
   ]
  },
  {
   "cell_type": "code",
   "execution_count": 4,
   "metadata": {
    "ExecuteTime": {
     "end_time": "2019-03-26T17:59:15.333666Z",
     "start_time": "2019-03-26T17:59:07.265001Z"
    }
   },
   "outputs": [
    {
     "name": "stdout",
     "output_type": "stream",
     "text": [
      "['0', '@SarahAnnGreen Have you ever seen a fake driver cry ']\n",
      "[1, \"Uniblue's new HQ, Orange Point, looks particularly stunning in the morning sun!! An oasis in the heart of Birkirkara \"]\n",
      "['0', '@argeneau know that feeling im at my other job today  have a good day babe x']\n",
      "['0', 'Really cold here  x']\n",
      "[1, 'How great is it that Pac 10 softball is fading fast? ']\n",
      "The number of positive sentiment labels is 800000.\n",
      "The number of negative sentiment labels is 800000\n"
     ]
    }
   ],
   "source": [
    "# your code here\n",
    "import csv\n",
    "import random\n",
    "\n",
    "text = []\n",
    "neg_count = 0\n",
    "pos_count = 0\n",
    "\n",
    "with open('../data/train.csv', 'r', encoding='iso8859') as csv_file:\n",
    "    reader = csv.reader(csv_file)\n",
    "    included_cols = [0, -1]\n",
    "    for row in reader:\n",
    "        content = list(row[i] for i in included_cols)\n",
    "        #print(content[0])\n",
    "        if content[0] == '0':\n",
    "            content[0] == 0\n",
    "            neg_count += 1\n",
    "        elif content[0] == '1':\n",
    "            content[0] = 1\n",
    "            pos_count += 1\n",
    "        text.append(content)\n",
    "\n",
    "random.shuffle(text)\n",
    "\n",
    "for i in range(5):\n",
    "    print(text[i])\n",
    "\n",
    "print('The number of positive sentiment labels is {}.\\nThe number of negative sentiment labels is {}'.format(\n",
    "    pos_count, neg_count))"
   ]
  },
  {
   "cell_type": "markdown",
   "metadata": {},
   "source": [
    "### (b) Data Preparation"
   ]
  },
  {
   "cell_type": "markdown",
   "metadata": {},
   "source": [
    "Before building a neural network model, we first need to prepare the data. The input to a RNN model  is a matrix with shape (a, b), where a is the number of samples (tweets), and b is the sequence length of each tweet. Prepare the data with the following steps:\n",
    "\n",
    "1\\. Take the RAW texts of the top 5000 tweets in the data and convert them to a list of strings, where each string is a tweet. [1 pt]"
   ]
  },
  {
   "cell_type": "code",
   "execution_count": 26,
   "metadata": {
    "ExecuteTime": {
     "end_time": "2019-02-25T21:42:54.016868Z",
     "start_time": "2019-02-25T21:42:53.978320Z"
    }
   },
   "outputs": [],
   "source": [
    "texts = [content[1] for content in text[:5000]]"
   ]
  },
  {
   "cell_type": "markdown",
   "metadata": {},
   "source": [
    "2\\. Use `Tokenizer` from `keras.preprocessing.text` to tokenize the texts and convert them to sequences (numbers) with the `texts_to_sequences` method of `Tokenizer`. **When tokenizing, please only consider the top 10,000 words in the dataset (`num_words`=10,000)**. [4 pts]"
   ]
  },
  {
   "cell_type": "code",
   "execution_count": 27,
   "metadata": {
    "ExecuteTime": {
     "end_time": "2019-02-25T21:42:54.799988Z",
     "start_time": "2019-02-25T21:42:54.607456Z"
    }
   },
   "outputs": [],
   "source": [
    "from keras.preprocessing.text import Tokenizer\n",
    "\n",
    "max_words = 10000\n",
    "tokenizer = Tokenizer(num_words = max_words)\n",
    "tokenizer.fit_on_texts(texts)\n",
    "sequences = tokenizer.texts_to_sequences(texts)"
   ]
  },
  {
   "cell_type": "markdown",
   "metadata": {},
   "source": [
    "3\\. Use `pad_sequences` from `keras.preprocessing.sequence` to pad each sequence with zeros to **make the sequence length 120**. [2 pts]"
   ]
  },
  {
   "cell_type": "code",
   "execution_count": 28,
   "metadata": {
    "ExecuteTime": {
     "end_time": "2019-02-25T21:42:55.105584Z",
     "start_time": "2019-02-25T21:42:55.063120Z"
    }
   },
   "outputs": [],
   "source": [
    "from keras.preprocessing.sequence import pad_sequences\n",
    "max_len = 120\n",
    "data = pad_sequences(sequences, maxlen= max_len)"
   ]
  },
  {
   "cell_type": "markdown",
   "metadata": {},
   "source": [
    "###  (c) Simple RNN\n",
    "\n",
    "i) Build a simple RNN model with the following specification:\n",
    "1. An embedding layer with output dimenstion 64.\n",
    "2. A simple RNN layer.\n",
    "3. A dense layer with sigmoid activation function for prediction.\n",
    "Print the summary of the model."
   ]
  },
  {
   "cell_type": "code",
   "execution_count": 29,
   "metadata": {
    "ExecuteTime": {
     "end_time": "2019-02-25T21:42:55.740254Z",
     "start_time": "2019-02-25T21:42:55.626051Z"
    }
   },
   "outputs": [
    {
     "name": "stdout",
     "output_type": "stream",
     "text": [
      "_________________________________________________________________\n",
      "Layer (type)                 Output Shape              Param #   \n",
      "=================================================================\n",
      "embedding_1 (Embedding)      (None, 120, 64)           640000    \n",
      "_________________________________________________________________\n",
      "simple_rnn_1 (SimpleRNN)     (None, 64)                8256      \n",
      "_________________________________________________________________\n",
      "dense_7 (Dense)              (None, 1)                 65        \n",
      "=================================================================\n",
      "Total params: 648,321\n",
      "Trainable params: 648,321\n",
      "Non-trainable params: 0\n",
      "_________________________________________________________________\n"
     ]
    }
   ],
   "source": [
    "from keras.models import Sequential\n",
    "from keras.layers import Embedding, SimpleRNN, Dense\n",
    "\n",
    "rnn_model = Sequential()\n",
    "rnn_model.add(Embedding(max_words, 64, input_length = max_len))\n",
    "rnn_model.add(SimpleRNN(64))\n",
    "rnn_model.add(Dense(1, activation='sigmoid'))\n",
    "rnn_model.summary()"
   ]
  },
  {
   "cell_type": "markdown",
   "metadata": {},
   "source": [
    "ii) Now train the simple RNN model:\n",
    "\n",
    "1\\. Compile the model with binary cross entory as loss and accuracy as evaluation metrics."
   ]
  },
  {
   "cell_type": "code",
   "execution_count": 30,
   "metadata": {
    "ExecuteTime": {
     "end_time": "2019-02-25T21:42:56.612160Z",
     "start_time": "2019-02-25T21:42:56.565391Z"
    }
   },
   "outputs": [],
   "source": [
    "rnn_model.compile(optimizer='rmsprop',\n",
    "              loss = 'binary_crossentropy',\n",
    "              metrics=['acc'])"
   ]
  },
  {
   "cell_type": "markdown",
   "metadata": {},
   "source": [
    "2\\. Fit the model with the training set with 5 epochs (use 20% of the data as validation). Play with the batch size to find a value that seems to work well (for example, you may find a smaller choice like 32 to result in extremely slow learning; try larger values like 512, 1024, etc)."
   ]
  },
  {
   "cell_type": "code",
   "execution_count": 31,
   "metadata": {
    "ExecuteTime": {
     "end_time": "2019-02-25T21:48:01.577047Z",
     "start_time": "2019-02-25T21:45:56.342328Z"
    }
   },
   "outputs": [
    {
     "name": "stdout",
     "output_type": "stream",
     "text": [
      "Train on 4000 samples, validate on 1000 samples\n",
      "Epoch 1/5\n",
      "4000/4000 [==============================] - 13s 3ms/step - loss: 0.6865 - acc: 0.5500 - val_loss: 0.6451 - val_acc: 0.6330\n",
      "Epoch 2/5\n",
      "4000/4000 [==============================] - 10s 3ms/step - loss: 0.4911 - acc: 0.7905 - val_loss: 0.6131 - val_acc: 0.6660\n",
      "Epoch 3/5\n",
      "4000/4000 [==============================] - 10s 3ms/step - loss: 0.3310 - acc: 0.8640 - val_loss: 0.9173 - val_acc: 0.5780\n",
      "Epoch 4/5\n",
      "4000/4000 [==============================] - 10s 3ms/step - loss: 0.2350 - acc: 0.9083 - val_loss: 0.7279 - val_acc: 0.6650\n",
      "Epoch 5/5\n",
      "4000/4000 [==============================] - 11s 3ms/step - loss: 0.1894 - acc: 0.9287 - val_loss: 0.8192 - val_acc: 0.6460\n"
     ]
    }
   ],
   "source": [
    "import numpy as np\n",
    "\n",
    "y = np.array([content[0] for content in text[:5000]])\n",
    "\n",
    "rnn_history = rnn_model.fit(data, y,\n",
    "                            epochs=5, \n",
    "                            batch_size = 32,\n",
    "                            validation_split=0.2)"
   ]
  },
  {
   "cell_type": "markdown",
   "metadata": {},
   "source": [
    "3\\. Plot the training and validation accuracy across epochs."
   ]
  },
  {
   "cell_type": "code",
   "execution_count": 32,
   "metadata": {
    "ExecuteTime": {
     "end_time": "2019-02-25T22:04:25.234816Z",
     "start_time": "2019-02-25T22:04:25.063615Z"
    }
   },
   "outputs": [],
   "source": [
    "import matplotlib.pyplot as plt\n",
    "\n",
    "def acc_train_val_plot(history):\n",
    "    # Plot training & validation accuracy values\n",
    "    plt.plot(history.history['acc'],'go-')\n",
    "    plt.plot(history.history['val_acc'],'ro-')\n",
    "    plt.title('Model accuracy')\n",
    "    plt.ylabel('Accuracy')\n",
    "    plt.xlabel('Epoch')\n",
    "    plt.legend(['Train', 'Validation'], loc='upper left')\n",
    "    plt.show()\n"
   ]
  },
  {
   "cell_type": "code",
   "execution_count": 33,
   "metadata": {},
   "outputs": [
    {
     "data": {
      "image/png": "[encoded data removed]",
      "text/plain": [
       "<matplotlib.figure.Figure at 0x7fc778340a20>"
      ]
     },
     "metadata": {},
     "output_type": "display_data"
    }
   ],
   "source": [
    "acc_train_val_plot(rnn_history)"
   ]
  },
  {
   "cell_type": "markdown",
   "metadata": {},
   "source": [
    "### (d) LSTM"
   ]
  },
  {
   "cell_type": "markdown",
   "metadata": {},
   "source": [
    "i) Now built a LSTM model by replacing the simple RNN layter in the above model with a LSTM layer. Print a summary of the LSTM model."
   ]
  },
  {
   "cell_type": "code",
   "execution_count": 34,
   "metadata": {
    "ExecuteTime": {
     "end_time": "2019-02-25T21:53:06.151189Z",
     "start_time": "2019-02-25T21:53:05.894171Z"
    }
   },
   "outputs": [
    {
     "name": "stdout",
     "output_type": "stream",
     "text": [
      "_________________________________________________________________\n",
      "Layer (type)                 Output Shape              Param #   \n",
      "=================================================================\n",
      "embedding_2 (Embedding)      (None, 120, 64)           640000    \n",
      "_________________________________________________________________\n",
      "lstm_1 (LSTM)                (None, 64)                33024     \n",
      "_________________________________________________________________\n",
      "dense_8 (Dense)              (None, 1)                 65        \n",
      "=================================================================\n",
      "Total params: 673,089\n",
      "Trainable params: 673,089\n",
      "Non-trainable params: 0\n",
      "_________________________________________________________________\n"
     ]
    }
   ],
   "source": [
    "from keras.layers import LSTM\n",
    "\n",
    "lstm_model = Sequential()\n",
    "lstm_model.add(Embedding(max_words, 64, input_length=max_len))\n",
    "lstm_model.add(LSTM(64))\n",
    "lstm_model.add(Dense(1, activation='sigmoid'))\n",
    "lstm_model.summary()"
   ]
  },
  {
   "cell_type": "markdown",
   "metadata": {},
   "source": [
    "ii) Train the LSTM model with the same specifications in the simple RNN model. Again, plot the training and validation accuracy across epochs."
   ]
  },
  {
   "cell_type": "code",
   "execution_count": null,
   "metadata": {
    "ExecuteTime": {
     "end_time": "2019-03-26T18:13:42.264032Z",
     "start_time": "2019-03-26T18:13:42.175820Z"
    }
   },
   "outputs": [],
   "source": [
    "lstm_model.compile(optimizer='rmsprop',\n",
    "              loss = 'binary_crossentropy',\n",
    "              metrics=['acc'])\n",
    "\n",
    "lstm_history = lstm_model.fit(data, y,\n",
    "                            epochs=5, \n",
    "                            batch_size = 32,\n",
    "                            validation_split=0.2)"
   ]
  },
  {
   "cell_type": "code",
   "execution_count": 36,
   "metadata": {
    "ExecuteTime": {
     "end_time": "2019-02-25T22:04:30.754740Z",
     "start_time": "2019-02-25T22:04:30.600540Z"
    }
   },
   "outputs": [
    {
     "data": {
      "image/png": "[encoded data removed]",
      "text/plain": [
       "<matplotlib.figure.Figure at 0x7fc7783e8320>"
      ]
     },
     "metadata": {},
     "output_type": "display_data"
    }
   ],
   "source": [
    "acc_train_val_plot(lstm_history)"
   ]
  },
  {
   "cell_type": "markdown",
   "metadata": {},
   "source": [
    "### (e) Evaluation on test data"
   ]
  },
  {
   "cell_type": "markdown",
   "metadata": {},
   "source": [
    "i) Using the simple RNN and LSTM models from the previous parts (do *not* retrain these using the full training dataset; it's fine to use the same models you learned from before where technically 20% of the training data were held out as validation data), evaluate their performance on the *test* set (`test.csv`). What are the test set raw accuracies that you get?"
   ]
  },
  {
   "cell_type": "code",
   "execution_count": 37,
   "metadata": {
    "ExecuteTime": {
     "end_time": "2019-02-25T22:05:36.628973Z",
     "start_time": "2019-02-25T22:05:36.613326Z"
    }
   },
   "outputs": [
    {
     "name": "stdout",
     "output_type": "stream",
     "text": [
      "498\n"
     ]
    }
   ],
   "source": [
    "# read test data\n",
    "test_text = []\n",
    "\n",
    "\n",
    "with open('HW3-data/test.csv', 'r', encoding='iso8859') as csv_file:\n",
    "    reader = csv.reader(csv_file)\n",
    "    included_cols = [0, -1]\n",
    "    for row in reader:\n",
    "        content = list(row[i] for i in included_cols)\n",
    "        test_text.append(content)\n",
    "\n",
    "random.shuffle(test_text)\n",
    "\n",
    "print(len(test_text))"
   ]
  },
  {
   "cell_type": "code",
   "execution_count": 38,
   "metadata": {
    "ExecuteTime": {
     "end_time": "2019-02-25T22:09:37.478375Z",
     "start_time": "2019-02-25T22:09:37.431713Z"
    }
   },
   "outputs": [],
   "source": [
    "# feature processing\n",
    "\n",
    "test_texts = [content[1] for content in test_text]\n",
    "test_tokenizer = Tokenizer(num_words = max_words)\n",
    "test_tokenizer.fit_on_texts(test_texts)\n",
    "test_sequences = test_tokenizer.texts_to_sequences(test_texts)\n",
    "test_data = pad_sequences(test_sequences, maxlen= max_len)\n",
    "\n",
    "test_y = np.array([content[0] for content in test_text])"
   ]
  },
  {
   "cell_type": "code",
   "execution_count": 39,
   "metadata": {
    "ExecuteTime": {
     "end_time": "2019-02-25T22:09:42.991507Z",
     "start_time": "2019-02-25T22:09:39.438741Z"
    }
   },
   "outputs": [
    {
     "name": "stdout",
     "output_type": "stream",
     "text": [
      "498/498 [==============================] - 1s 1ms/step\n",
      "Test accuracy for rnn: 0.44979919774465293\n",
      "498/498 [==============================] - 1s 3ms/step\n",
      "Test accuracy for lstm: 0.44377510040160645\n"
     ]
    }
   ],
   "source": [
    "# test\n",
    "rnn_test_loss, rnn_test_acc = rnn_model.evaluate(test_data, test_y)\n",
    "print('Test accuracy for rnn:', rnn_test_acc)\n",
    "\n",
    "lstm_test_loss, lstm_test_acc = lstm_model.evaluate(test_data, test_y)\n",
    "print('Test accuracy for lstm:', lstm_test_acc)"
   ]
  },
  {
   "cell_type": "markdown",
   "metadata": {},
   "source": [
    "ii) In the previous models, we only use the top 5000 tweets. Now train the LSTM-based model using the whole training dataset. Again use 20% of the training dataset as validation. After learning the model, test it on the true test set. What is the test set raw accuracy that you get? How does this test set accuracy compare to the validation accuracy, and to the test set accuracy you got from using only 5000 tweets (or technically 5000\\*0.8=4000 tweets to train)?"
   ]
  },
  {
   "cell_type": "code",
   "execution_count": 40,
   "metadata": {
    "ExecuteTime": {
     "end_time": "2019-02-25T22:20:48.556028Z",
     "start_time": "2019-02-25T22:19:22.325279Z"
    }
   },
   "outputs": [],
   "source": [
    "full_texts = [content[1] for content in text]\n",
    "full_y = np.array([content[0] for content in text])\n",
    "\n",
    "full_tokenizer = Tokenizer(num_words=max_words)\n",
    "full_tokenizer.fit_on_texts(full_texts)\n",
    "full_sequences = full_tokenizer.texts_to_sequences(full_texts)\n",
    "full_data = pad_sequences(full_sequences, maxlen=max_len)"
   ]
  },
  {
   "cell_type": "code",
   "execution_count": 41,
   "metadata": {
    "ExecuteTime": {
     "end_time": "2019-02-25T22:20:48.850746Z",
     "start_time": "2019-02-25T22:20:48.841981Z"
    }
   },
   "outputs": [
    {
     "data": {
      "text/plain": [
       "1600000"
      ]
     },
     "execution_count": 41,
     "metadata": {},
     "output_type": "execute_result"
    }
   ],
   "source": [
    "len(full_data)"
   ]
  },
  {
   "cell_type": "code",
   "execution_count": 42,
   "metadata": {
    "ExecuteTime": {
     "end_time": "2019-02-25T22:20:48.860858Z",
     "start_time": "2019-02-25T22:20:48.852626Z"
    }
   },
   "outputs": [
    {
     "data": {
      "text/plain": [
       "1600000"
      ]
     },
     "execution_count": 42,
     "metadata": {},
     "output_type": "execute_result"
    }
   ],
   "source": [
    "len(full_y)"
   ]
  },
  {
   "cell_type": "code",
   "execution_count": 43,
   "metadata": {
    "ExecuteTime": {
     "end_time": "2019-02-25T22:20:49.144515Z",
     "start_time": "2019-02-25T22:20:48.863913Z"
    }
   },
   "outputs": [
    {
     "name": "stdout",
     "output_type": "stream",
     "text": [
      "_________________________________________________________________\n",
      "Layer (type)                 Output Shape              Param #   \n",
      "=================================================================\n",
      "embedding_3 (Embedding)      (None, 120, 64)           640000    \n",
      "_________________________________________________________________\n",
      "lstm_2 (LSTM)                (None, 64)                33024     \n",
      "_________________________________________________________________\n",
      "dense_9 (Dense)              (None, 1)                 65        \n",
      "=================================================================\n",
      "Total params: 673,089\n",
      "Trainable params: 673,089\n",
      "Non-trainable params: 0\n",
      "_________________________________________________________________\n"
     ]
    }
   ],
   "source": [
    "full_lstm_model = Sequential()\n",
    "full_lstm_model.add(Embedding(max_words, 64, input_length=max_len))\n",
    "full_lstm_model.add(LSTM(64))\n",
    "full_lstm_model.add(Dense(1, activation='sigmoid'))\n",
    "full_lstm_model.summary()"
   ]
  },
  {
   "cell_type": "code",
   "execution_count": 46,
   "metadata": {
    "ExecuteTime": {
     "end_time": "2019-02-25T22:20:49.199379Z",
     "start_time": "2019-02-25T22:20:49.146458Z"
    }
   },
   "outputs": [],
   "source": [
    "full_lstm_model.compile(optimizer='rmsprop',\n",
    "                        loss='binary_crossentropy',\n",
    "                        metrics=['acc'])"
   ]
  },
  {
   "cell_type": "code",
   "execution_count": 47,
   "metadata": {
    "ExecuteTime": {
     "end_time": "2019-02-25T22:22:07.030367Z",
     "start_time": "2019-02-25T22:20:49.201303Z"
    }
   },
   "outputs": [
    {
     "name": "stdout",
     "output_type": "stream",
     "text": [
      "Train on 1280000 samples, validate on 320000 samples\n",
      "Epoch 1/5\n",
      "1280000/1280000 [==============================] - 8522s 7ms/step - loss: 0.4006 - acc: 0.8197 - val_loss: 0.4008 - val_acc: 0.8193\n",
      "Epoch 2/5\n",
      "1280000/1280000 [==============================] - 8522s 7ms/step - loss: 0.3950 - acc: 0.8231 - val_loss: 0.3987 - val_acc: 0.8205\n",
      "Epoch 3/5\n",
      "1280000/1280000 [==============================] - 8533s 7ms/step - loss: 0.3928 - acc: 0.8246 - val_loss: 0.3993 - val_acc: 0.8204\n",
      "Epoch 4/5\n",
      "1280000/1280000 [==============================] - 8513s 7ms/step - loss: 0.3921 - acc: 0.8253 - val_loss: 0.4034 - val_acc: 0.8212\n",
      "Epoch 5/5\n",
      "1280000/1280000 [==============================] - 8536s 7ms/step - loss: 0.3923 - acc: 0.8257 - val_loss: 0.4021 - val_acc: 0.8213\n"
     ]
    }
   ],
   "source": [
    "full_lstm_history = full_lstm_model.fit(full_data, full_y,\n",
    "                                        epochs=5,\n",
    "                                        batch_size=32,\n",
    "                                        validation_split=0.2)"
   ]
  },
  {
   "cell_type": "code",
   "execution_count": 49,
   "metadata": {
    "ExecuteTime": {
     "end_time": "2019-02-25T22:18:28.698986Z",
     "start_time": "2019-02-25T22:17:20.252Z"
    }
   },
   "outputs": [
    {
     "name": "stdout",
     "output_type": "stream",
     "text": [
      "498/498 [==============================] - 1s 3ms/step\n",
      "Validation accuracy: [0.81931875, 0.82045625, 0.820415625, 0.821240625, 0.82131875]\n",
      "Test accuracy: 0.5000000007181282\n",
      "Test accuracy with only 5000 tweets: 0.44377510040160645\n"
     ]
    }
   ],
   "source": [
    "val_acc = full_lstm_history.history['val_acc']                                                                                                                                                                                                                                                                                                                                                                             \n",
    "\n",
    "fill_lstm_test_loss, full_lstm_test_acc = full_lstm_model.evaluate(test_data, test_y)\n",
    "\n",
    "print('Validation accuracy: {}'.format(val_acc))\n",
    "print('Test accuracy: {}'.format(full_lstm_test_acc))\n",
    "print('Test accuracy with only 5000 tweets: {}'.format(lstm_test_acc))"
   ]
  },
  {
   "cell_type": "markdown",
   "metadata": {},
   "source": [
    "The test accuracy is much lower than the validation error due to overfitting issues. \n",
    "\n",
    "And it is higher than the test accuracy from 5000 tweets model since larger datasets can train a better model and a higher test accuracy. "
   ]
  },
  {
   "cell_type": "code",
   "execution_count": null,
   "metadata": {},
   "outputs": [],
   "source": []
  }
 ],
 "metadata": {
  "kernelspec": {
   "display_name": "Python 3",
   "language": "python",
   "name": "python3"
  },
  "language_info": {
   "codemirror_mode": {
    "name": "ipython",
    "version": 3
   },
   "file_extension": ".py",
   "mimetype": "text/x-python",
   "name": "python",
   "nbconvert_exporter": "python",
   "pygments_lexer": "ipython3",
   "version": "3.6.8"
  }
 },
 "nbformat": 4,
 "nbformat_minor": 2
}
